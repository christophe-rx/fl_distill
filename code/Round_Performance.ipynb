{
 "cells": [
  {
   "cell_type": "code",
   "execution_count": 1,
   "metadata": {},
   "outputs": [],
   "source": [
    "import experiment_manager as xpm\n",
    "from pathlib import Path\n",
    "\n",
    "import os\n",
    "from os.path import join\n",
    "\n",
    "import pandas as pd\n",
    "\n",
    "import altair as alt\n",
    "currpath=os.getcwd()"
   ]
  },
  {
   "cell_type": "code",
   "execution_count": 2,
   "metadata": {},
   "outputs": [
    {
     "name": "stdout",
     "output_type": "stream",
     "text": [
      "Loaded  15  Results from  /home/tim/HHI/fl_distill/results/noniid\n",
      "\n",
      "Hyperparameters: \n",
      " {'dataset': ['cifar10'], 'distill_dataset': ['stl10'], 'net': ['vgg11sb', 'vgg11s'], 'n_clients': [20], 'classes_per_client': [0.1], 'balancedness': [1.0], 'communication_rounds': [20], 'participation_rate': [0.4], 'local_epochs': [20], 'distill_epochs': [10], 'n_distill': [100000], 'warmup_type': ['constant', 'tanh'], 'batch_size': [128], 'local_data_percentage': [0.5, 0.05], 'distill_weight': [10, 1, 0.1, 20], 'aggregation_mode': ['FD'], 'distill_mode': ['regular'], 'distill_phase': ['clients'], 'only_linear': [False], 'pretrained': [None], 'save_model': [None], 'log_frequency': [-100], 'log_path': ['noniid/'], 'job_id': [[141208], [141427], [141424]], 'finished': [True, False], 'log_id': [14394, 11049, 43142, 95295, 34123, 95887, 28901, 78373, 45378, 55302, 68021, 43577, 63922, 22513, 34502]}\n",
      "\n",
      "Tracked Variables: \n",
      " ['hyperparameters', 'server_val_accuracy', 'distill_loss', 'distill_acc', 'distill_epochs', 'communication_round', 'epochs', 'lr', 'momentum', 'weight_decay']\n",
      "\n"
     ]
    }
   ],
   "source": [
    "#construct absolute path to result directory\n",
    "\n",
    "result_path = join(Path(currpath).parents[0], 'results', 'noniid')\n",
    "\n",
    "list_of_experiments = xpm.get_list_of_experiments(result_path)\n",
    "data = list_of_experiments[14].results\n",
    "print()\n",
    "hyp = data['hyperparameters']\n",
    "del data['hyperparameters']"
   ]
  },
  {
   "cell_type": "code",
   "execution_count": 3,
   "metadata": {},
   "outputs": [],
   "source": [
    "def generate_plot(data, hyp):\n",
    "    data['server_val_accuracy'] = data['server_val_accuracy']\n",
    "    count = data['distill_acc'].shape[1] if data['distill_acc'].ndim == 2 else 1\n",
    "    distill_acc = pd.DataFrame(data['distill_acc'], columns=[f'client{i}'for i in range(count)])\n",
    "    distill_acc.index.name = \"round\"\n",
    "    distill_acc = distill_acc.reset_index().melt('round')\n",
    "\n",
    "\n",
    "    base = alt.Chart(distill_acc).transform_calculate(\n",
    "        line=\"'Average'\",\n",
    "        shade=\"'Sigma1 confidence interval'\",\n",
    "    ).properties(\n",
    "        title={\n",
    "            'text': 'Rounds vs. Performance for One Step Distillation',\n",
    "            'subtitle': f\"Net: {hyp['net']} - Phase: {hyp['distill_phase']} - Warmup: {hyp['warmup_type']} - % local data: {hyp['local_data_percentage']} - Distill weight: {hyp['distill_weight']}\"\n",
    "        }\n",
    "    )\n",
    "\n",
    "    mean = base.mark_line().encode(\n",
    "        x='round',\n",
    "        y='mean(value)',\n",
    "        color=alt.Color('line:N', scale=alt.Scale(range=['black']), legend=alt.Legend(symbolType=\"stroke\"), title=\"\"),\n",
    "    )\n",
    "\n",
    "    band = base.mark_errorband(extent='ci').encode(\n",
    "        x='round',\n",
    "        y=alt.Y('value', title='Accuracy on the test set'),\n",
    "        color=alt.Color('shade:N', scale=alt.Scale(range=['steelblue']), legend=alt.Legend(symbolType=\"circle\"), title=\"\"),\n",
    "    )\n",
    "\n",
    "\n",
    "\n",
    "    plot = (mean + band).resolve_scale(\n",
    "        color='independent'\n",
    "    )\n",
    "    return plot"
   ]
  },
  {
   "cell_type": "code",
   "execution_count": null,
   "metadata": {},
   "outputs": [],
   "source": []
  },
  {
   "cell_type": "code",
   "execution_count": 4,
   "metadata": {},
   "outputs": [
    {
     "data": {
      "text/html": [
       "\n",
       "<div id=\"altair-viz-398b16cfa4f44a60a5f933a3428c2a2e\"></div>\n",
       "<script type=\"text/javascript\">\n",
       "  (function(spec, embedOpt){\n",
       "    let outputDiv = document.currentScript.previousElementSibling;\n",
       "    if (outputDiv.id !== \"altair-viz-398b16cfa4f44a60a5f933a3428c2a2e\") {\n",
       "      outputDiv = document.getElementById(\"altair-viz-398b16cfa4f44a60a5f933a3428c2a2e\");\n",
       "    }\n",
       "    const paths = {\n",
       "      \"vega\": \"https://cdn.jsdelivr.net/npm//vega@5?noext\",\n",
       "      \"vega-lib\": \"https://cdn.jsdelivr.net/npm//vega-lib?noext\",\n",
       "      \"vega-lite\": \"https://cdn.jsdelivr.net/npm//vega-lite@4.8.1?noext\",\n",
       "      \"vega-embed\": \"https://cdn.jsdelivr.net/npm//vega-embed@6?noext\",\n",
       "    };\n",
       "\n",
       "    function loadScript(lib) {\n",
       "      return new Promise(function(resolve, reject) {\n",
       "        var s = document.createElement('script');\n",
       "        s.src = paths[lib];\n",
       "        s.async = true;\n",
       "        s.onload = () => resolve(paths[lib]);\n",
       "        s.onerror = () => reject(`Error loading script: ${paths[lib]}`);\n",
       "        document.getElementsByTagName(\"head\")[0].appendChild(s);\n",
       "      });\n",
       "    }\n",
       "\n",
       "    function showError(err) {\n",
       "      outputDiv.innerHTML = `<div class=\"error\" style=\"color:red;\">${err}</div>`;\n",
       "      throw err;\n",
       "    }\n",
       "\n",
       "    function displayChart(vegaEmbed) {\n",
       "      vegaEmbed(outputDiv, spec, embedOpt)\n",
       "        .catch(err => showError(`Javascript Error: ${err.message}<br>This usually means there's a typo in your chart specification. See the javascript console for the full traceback.`));\n",
       "    }\n",
       "\n",
       "    if(typeof define === \"function\" && define.amd) {\n",
       "      requirejs.config({paths});\n",
       "      require([\"vega-embed\"], displayChart, err => showError(`Error loading script: ${err.message}`));\n",
       "    } else if (typeof vegaEmbed === \"function\") {\n",
       "      displayChart(vegaEmbed);\n",
       "    } else {\n",
       "      loadScript(\"vega\")\n",
       "        .then(() => loadScript(\"vega-lite\"))\n",
       "        .then(() => loadScript(\"vega-embed\"))\n",
       "        .catch(showError)\n",
       "        .then(() => displayChart(vegaEmbed));\n",
       "    }\n",
       "  })({\"config\": {\"view\": {\"continuousWidth\": 400, \"continuousHeight\": 300}}, \"layer\": [{\"mark\": \"line\", \"encoding\": {\"color\": {\"type\": \"nominal\", \"field\": \"line\", \"legend\": {\"symbolType\": \"stroke\"}, \"scale\": {\"range\": [\"black\"]}, \"title\": \"\"}, \"x\": {\"type\": \"quantitative\", \"field\": \"round\"}, \"y\": {\"type\": \"quantitative\", \"aggregate\": \"mean\", \"field\": \"value\"}}, \"title\": {\"text\": \"Rounds vs. Performance for One Step Distillation\", \"subtitle\": \"Net: vgg11s - Phase: clients - Warmup: tanh - % local data: 0.5 - Distill weight: 10\"}, \"transform\": [{\"calculate\": \"'Average'\", \"as\": \"line\"}, {\"calculate\": \"'Sigma1 confidence interval'\", \"as\": \"shade\"}]}, {\"mark\": {\"type\": \"errorband\", \"extent\": \"ci\"}, \"encoding\": {\"color\": {\"type\": \"nominal\", \"field\": \"shade\", \"legend\": {\"symbolType\": \"circle\"}, \"scale\": {\"range\": [\"steelblue\"]}, \"title\": \"\"}, \"x\": {\"type\": \"quantitative\", \"field\": \"round\"}, \"y\": {\"type\": \"quantitative\", \"field\": \"value\", \"title\": \"Accuracy on the test set\"}}, \"title\": {\"text\": \"Rounds vs. Performance for One Step Distillation\", \"subtitle\": \"Net: vgg11s - Phase: clients - Warmup: tanh - % local data: 0.5 - Distill weight: 10\"}, \"transform\": [{\"calculate\": \"'Average'\", \"as\": \"line\"}, {\"calculate\": \"'Sigma1 confidence interval'\", \"as\": \"shade\"}]}], \"data\": {\"name\": \"data-b30a3a3bad5566cd72bd7fe6ab1ba52f\"}, \"resolve\": {\"scale\": {\"color\": \"independent\"}}, \"$schema\": \"https://vega.github.io/schema/vega-lite/v4.8.1.json\", \"datasets\": {\"data-b30a3a3bad5566cd72bd7fe6ab1ba52f\": [{\"round\": 0, \"variable\": \"client0\", \"value\": 0.1}, {\"round\": 1, \"variable\": \"client0\", \"value\": 0.1}, {\"round\": 2, \"variable\": \"client0\", \"value\": 0.1}, {\"round\": 3, \"variable\": \"client0\", \"value\": 0.1}, {\"round\": 4, \"variable\": \"client0\", \"value\": 0.1}, {\"round\": 5, \"variable\": \"client0\", \"value\": 0.1414}, {\"round\": 6, \"variable\": \"client0\", \"value\": 0.1414}, {\"round\": 7, \"variable\": \"client0\", \"value\": 0.1}, {\"round\": 8, \"variable\": \"client0\", \"value\": 0.1}, {\"round\": 9, \"variable\": \"client0\", \"value\": 0.1}, {\"round\": 10, \"variable\": \"client0\", \"value\": 0.1}, {\"round\": 11, \"variable\": \"client0\", \"value\": 0.1}, {\"round\": 12, \"variable\": \"client0\", \"value\": 0.1}, {\"round\": 13, \"variable\": \"client0\", \"value\": 0.1}, {\"round\": 14, \"variable\": \"client0\", \"value\": 0.1}, {\"round\": 15, \"variable\": \"client0\", \"value\": 0.1}, {\"round\": 16, \"variable\": \"client0\", \"value\": 0.1}, {\"round\": 17, \"variable\": \"client0\", \"value\": 0.1}, {\"round\": 18, \"variable\": \"client0\", \"value\": 0.1675}, {\"round\": 19, \"variable\": \"client0\", \"value\": 0.1675}, {\"round\": 0, \"variable\": \"client1\", \"value\": 0.102}, {\"round\": 1, \"variable\": \"client1\", \"value\": 0.102}, {\"round\": 2, \"variable\": \"client1\", \"value\": 0.102}, {\"round\": 3, \"variable\": \"client1\", \"value\": 0.102}, {\"round\": 4, \"variable\": \"client1\", \"value\": 0.1437}, {\"round\": 5, \"variable\": \"client1\", \"value\": 0.1437}, {\"round\": 6, \"variable\": \"client1\", \"value\": 0.1378}, {\"round\": 7, \"variable\": \"client1\", \"value\": 0.1266}, {\"round\": 8, \"variable\": \"client1\", \"value\": 0.1266}, {\"round\": 9, \"variable\": \"client1\", \"value\": 0.1266}, {\"round\": 10, \"variable\": \"client1\", \"value\": 0.1266}, {\"round\": 11, \"variable\": \"client1\", \"value\": 0.1266}, {\"round\": 12, \"variable\": \"client1\", \"value\": 0.1}, {\"round\": 13, \"variable\": \"client1\", \"value\": 0.1}, {\"round\": 14, \"variable\": \"client1\", \"value\": 0.1}, {\"round\": 15, \"variable\": \"client1\", \"value\": 0.1}, {\"round\": 16, \"variable\": \"client1\", \"value\": 0.1}, {\"round\": 17, \"variable\": \"client1\", \"value\": 0.1533}, {\"round\": 18, \"variable\": \"client1\", \"value\": 0.155}, {\"round\": 19, \"variable\": \"client1\", \"value\": 0.1323}, {\"round\": 0, \"variable\": \"client2\", \"value\": 0.1004}, {\"round\": 1, \"variable\": \"client2\", \"value\": 0.2426}, {\"round\": 2, \"variable\": \"client2\", \"value\": 0.2343}, {\"round\": 3, \"variable\": \"client2\", \"value\": 0.2418}, {\"round\": 4, \"variable\": \"client2\", \"value\": 0.2349}, {\"round\": 5, \"variable\": \"client2\", \"value\": 0.2349}, {\"round\": 6, \"variable\": \"client2\", \"value\": 0.2349}, {\"round\": 7, \"variable\": \"client2\", \"value\": 0.2349}, {\"round\": 8, \"variable\": \"client2\", \"value\": 0.2368}, {\"round\": 9, \"variable\": \"client2\", \"value\": 0.2368}, {\"round\": 10, \"variable\": \"client2\", \"value\": 0.2368}, {\"round\": 11, \"variable\": \"client2\", \"value\": 0.2348}, {\"round\": 12, \"variable\": \"client2\", \"value\": 0.2452}, {\"round\": 13, \"variable\": \"client2\", \"value\": 0.2423}, {\"round\": 14, \"variable\": \"client2\", \"value\": 0.2331}, {\"round\": 15, \"variable\": \"client2\", \"value\": 0.2351}, {\"round\": 16, \"variable\": \"client2\", \"value\": 0.2351}, {\"round\": 17, \"variable\": \"client2\", \"value\": 0.2351}, {\"round\": 18, \"variable\": \"client2\", \"value\": 0.2103}, {\"round\": 19, \"variable\": \"client2\", \"value\": 0.2103}, {\"round\": 0, \"variable\": \"client3\", \"value\": 0.098}, {\"round\": 1, \"variable\": \"client3\", \"value\": 0.098}, {\"round\": 2, \"variable\": \"client3\", \"value\": 0.1673}, {\"round\": 3, \"variable\": \"client3\", \"value\": 0.1698}, {\"round\": 4, \"variable\": \"client3\", \"value\": 0.1696}, {\"round\": 5, \"variable\": \"client3\", \"value\": 0.161}, {\"round\": 6, \"variable\": \"client3\", \"value\": 0.161}, {\"round\": 7, \"variable\": \"client3\", \"value\": 0.161}, {\"round\": 8, \"variable\": \"client3\", \"value\": 0.161}, {\"round\": 9, \"variable\": \"client3\", \"value\": 0.1688}, {\"round\": 10, \"variable\": \"client3\", \"value\": 0.1688}, {\"round\": 11, \"variable\": \"client3\", \"value\": 0.1688}, {\"round\": 12, \"variable\": \"client3\", \"value\": 0.1692}, {\"round\": 13, \"variable\": \"client3\", \"value\": 0.1692}, {\"round\": 14, \"variable\": \"client3\", \"value\": 0.1692}, {\"round\": 15, \"variable\": \"client3\", \"value\": 0.1692}, {\"round\": 16, \"variable\": \"client3\", \"value\": 0.1682}, {\"round\": 17, \"variable\": \"client3\", \"value\": 0.1637}, {\"round\": 18, \"variable\": \"client3\", \"value\": 0.1633}, {\"round\": 19, \"variable\": \"client3\", \"value\": 0.1578}, {\"round\": 0, \"variable\": \"client4\", \"value\": 0.1551}, {\"round\": 1, \"variable\": \"client4\", \"value\": 0.1551}, {\"round\": 2, \"variable\": \"client4\", \"value\": 0.1551}, {\"round\": 3, \"variable\": \"client4\", \"value\": 0.1551}, {\"round\": 4, \"variable\": \"client4\", \"value\": 0.1551}, {\"round\": 5, \"variable\": \"client4\", \"value\": 0.1565}, {\"round\": 6, \"variable\": \"client4\", \"value\": 0.1546}, {\"round\": 7, \"variable\": \"client4\", \"value\": 0.1546}, {\"round\": 8, \"variable\": \"client4\", \"value\": 0.1435}, {\"round\": 9, \"variable\": \"client4\", \"value\": 0.1604}, {\"round\": 10, \"variable\": \"client4\", \"value\": 0.1604}, {\"round\": 11, \"variable\": \"client4\", \"value\": 0.1604}, {\"round\": 12, \"variable\": \"client4\", \"value\": 0.1513}, {\"round\": 13, \"variable\": \"client4\", \"value\": 0.1513}, {\"round\": 14, \"variable\": \"client4\", \"value\": 0.1513}, {\"round\": 15, \"variable\": \"client4\", \"value\": 0.1513}, {\"round\": 16, \"variable\": \"client4\", \"value\": 0.1424}, {\"round\": 17, \"variable\": \"client4\", \"value\": 0.1424}, {\"round\": 18, \"variable\": \"client4\", \"value\": 0.154}, {\"round\": 19, \"variable\": \"client4\", \"value\": 0.1485}, {\"round\": 0, \"variable\": \"client5\", \"value\": 0.1892}, {\"round\": 1, \"variable\": \"client5\", \"value\": 0.1892}, {\"round\": 2, \"variable\": \"client5\", \"value\": 0.1884}, {\"round\": 3, \"variable\": \"client5\", \"value\": 0.1884}, {\"round\": 4, \"variable\": \"client5\", \"value\": 0.1884}, {\"round\": 5, \"variable\": \"client5\", \"value\": 0.206}, {\"round\": 6, \"variable\": \"client5\", \"value\": 0.206}, {\"round\": 7, \"variable\": \"client5\", \"value\": 0.206}, {\"round\": 8, \"variable\": \"client5\", \"value\": 0.206}, {\"round\": 9, \"variable\": \"client5\", \"value\": 0.206}, {\"round\": 10, \"variable\": \"client5\", \"value\": 0.1808}, {\"round\": 11, \"variable\": \"client5\", \"value\": 0.1909}, {\"round\": 12, \"variable\": \"client5\", \"value\": 0.1887}, {\"round\": 13, \"variable\": \"client5\", \"value\": 0.1958}, {\"round\": 14, \"variable\": \"client5\", \"value\": 0.1958}, {\"round\": 15, \"variable\": \"client5\", \"value\": 0.1958}, {\"round\": 16, \"variable\": \"client5\", \"value\": 0.1902}, {\"round\": 17, \"variable\": \"client5\", \"value\": 0.1902}, {\"round\": 18, \"variable\": \"client5\", \"value\": 0.196}, {\"round\": 19, \"variable\": \"client5\", \"value\": 0.196}, {\"round\": 0, \"variable\": \"client6\", \"value\": 0.156}, {\"round\": 1, \"variable\": \"client6\", \"value\": 0.156}, {\"round\": 2, \"variable\": \"client6\", \"value\": 0.156}, {\"round\": 3, \"variable\": \"client6\", \"value\": 0.1645}, {\"round\": 4, \"variable\": \"client6\", \"value\": 0.1645}, {\"round\": 5, \"variable\": \"client6\", \"value\": 0.1645}, {\"round\": 6, \"variable\": \"client6\", \"value\": 0.1645}, {\"round\": 7, \"variable\": \"client6\", \"value\": 0.1645}, {\"round\": 8, \"variable\": \"client6\", \"value\": 0.1645}, {\"round\": 9, \"variable\": \"client6\", \"value\": 0.1526}, {\"round\": 10, \"variable\": \"client6\", \"value\": 0.1587}, {\"round\": 11, \"variable\": \"client6\", \"value\": 0.1555}, {\"round\": 12, \"variable\": \"client6\", \"value\": 0.1555}, {\"round\": 13, \"variable\": \"client6\", \"value\": 0.1635}, {\"round\": 14, \"variable\": \"client6\", \"value\": 0.1635}, {\"round\": 15, \"variable\": \"client6\", \"value\": 0.1524}, {\"round\": 16, \"variable\": \"client6\", \"value\": 0.1524}, {\"round\": 17, \"variable\": \"client6\", \"value\": 0.1524}, {\"round\": 18, \"variable\": \"client6\", \"value\": 0.1516}, {\"round\": 19, \"variable\": \"client6\", \"value\": 0.1608}, {\"round\": 0, \"variable\": \"client7\", \"value\": 0.2552}, {\"round\": 1, \"variable\": \"client7\", \"value\": 0.2552}, {\"round\": 2, \"variable\": \"client7\", \"value\": 0.2552}, {\"round\": 3, \"variable\": \"client7\", \"value\": 0.2552}, {\"round\": 4, \"variable\": \"client7\", \"value\": 0.2393}, {\"round\": 5, \"variable\": \"client7\", \"value\": 0.2393}, {\"round\": 6, \"variable\": \"client7\", \"value\": 0.2726}, {\"round\": 7, \"variable\": \"client7\", \"value\": 0.2726}, {\"round\": 8, \"variable\": \"client7\", \"value\": 0.2726}, {\"round\": 9, \"variable\": \"client7\", \"value\": 0.2726}, {\"round\": 10, \"variable\": \"client7\", \"value\": 0.2726}, {\"round\": 11, \"variable\": \"client7\", \"value\": 0.2767}, {\"round\": 12, \"variable\": \"client7\", \"value\": 0.2767}, {\"round\": 13, \"variable\": \"client7\", \"value\": 0.2798}, {\"round\": 14, \"variable\": \"client7\", \"value\": 0.2929}, {\"round\": 15, \"variable\": \"client7\", \"value\": 0.2929}, {\"round\": 16, \"variable\": \"client7\", \"value\": 0.2929}, {\"round\": 17, \"variable\": \"client7\", \"value\": 0.2517}, {\"round\": 18, \"variable\": \"client7\", \"value\": 0.2517}, {\"round\": 19, \"variable\": \"client7\", \"value\": 0.2517}, {\"round\": 0, \"variable\": \"client8\", \"value\": 0.1}, {\"round\": 1, \"variable\": \"client8\", \"value\": 0.1}, {\"round\": 2, \"variable\": \"client8\", \"value\": 0.1761}, {\"round\": 3, \"variable\": \"client8\", \"value\": 0.1761}, {\"round\": 4, \"variable\": \"client8\", \"value\": 0.1761}, {\"round\": 5, \"variable\": \"client8\", \"value\": 0.1761}, {\"round\": 6, \"variable\": \"client8\", \"value\": 0.1761}, {\"round\": 7, \"variable\": \"client8\", \"value\": 0.1786}, {\"round\": 8, \"variable\": \"client8\", \"value\": 0.176}, {\"round\": 9, \"variable\": \"client8\", \"value\": 0.176}, {\"round\": 10, \"variable\": \"client8\", \"value\": 0.176}, {\"round\": 11, \"variable\": \"client8\", \"value\": 0.1817}, {\"round\": 12, \"variable\": \"client8\", \"value\": 0.1817}, {\"round\": 13, \"variable\": \"client8\", \"value\": 0.1767}, {\"round\": 14, \"variable\": \"client8\", \"value\": 0.1804}, {\"round\": 15, \"variable\": \"client8\", \"value\": 0.1804}, {\"round\": 16, \"variable\": \"client8\", \"value\": 0.1798}, {\"round\": 17, \"variable\": \"client8\", \"value\": 0.1798}, {\"round\": 18, \"variable\": \"client8\", \"value\": 0.1802}, {\"round\": 19, \"variable\": \"client8\", \"value\": 0.1802}, {\"round\": 0, \"variable\": \"client9\", \"value\": 0.1}, {\"round\": 1, \"variable\": \"client9\", \"value\": 0.1526}, {\"round\": 2, \"variable\": \"client9\", \"value\": 0.1526}, {\"round\": 3, \"variable\": \"client9\", \"value\": 0.1526}, {\"round\": 4, \"variable\": \"client9\", \"value\": 0.1526}, {\"round\": 5, \"variable\": \"client9\", \"value\": 0.1526}, {\"round\": 6, \"variable\": \"client9\", \"value\": 0.1526}, {\"round\": 7, \"variable\": \"client9\", \"value\": 0.1621}, {\"round\": 8, \"variable\": \"client9\", \"value\": 0.1621}, {\"round\": 9, \"variable\": \"client9\", \"value\": 0.1621}, {\"round\": 10, \"variable\": \"client9\", \"value\": 0.1301}, {\"round\": 11, \"variable\": \"client9\", \"value\": 0.1301}, {\"round\": 12, \"variable\": \"client9\", \"value\": 0.1301}, {\"round\": 13, \"variable\": \"client9\", \"value\": 0.1572}, {\"round\": 14, \"variable\": \"client9\", \"value\": 0.1572}, {\"round\": 15, \"variable\": \"client9\", \"value\": 0.1572}, {\"round\": 16, \"variable\": \"client9\", \"value\": 0.1572}, {\"round\": 17, \"variable\": \"client9\", \"value\": 0.1572}, {\"round\": 18, \"variable\": \"client9\", \"value\": 0.1572}, {\"round\": 19, \"variable\": \"client9\", \"value\": 0.1}, {\"round\": 0, \"variable\": \"client10\", \"value\": 0.1695}, {\"round\": 1, \"variable\": \"client10\", \"value\": 0.182}, {\"round\": 2, \"variable\": \"client10\", \"value\": 0.152}, {\"round\": 3, \"variable\": \"client10\", \"value\": 0.152}, {\"round\": 4, \"variable\": \"client10\", \"value\": 0.1714}, {\"round\": 5, \"variable\": \"client10\", \"value\": 0.1714}, {\"round\": 6, \"variable\": \"client10\", \"value\": 0.1714}, {\"round\": 7, \"variable\": \"client10\", \"value\": 0.1562}, {\"round\": 8, \"variable\": \"client10\", \"value\": 0.1562}, {\"round\": 9, \"variable\": \"client10\", \"value\": 0.1577}, {\"round\": 10, \"variable\": \"client10\", \"value\": 0.1401}, {\"round\": 11, \"variable\": \"client10\", \"value\": 0.1401}, {\"round\": 12, \"variable\": \"client10\", \"value\": 0.1401}, {\"round\": 13, \"variable\": \"client10\", \"value\": 0.1401}, {\"round\": 14, \"variable\": \"client10\", \"value\": 0.1704}, {\"round\": 15, \"variable\": \"client10\", \"value\": 0.1704}, {\"round\": 16, \"variable\": \"client10\", \"value\": 0.1704}, {\"round\": 17, \"variable\": \"client10\", \"value\": 0.1704}, {\"round\": 18, \"variable\": \"client10\", \"value\": 0.1704}, {\"round\": 19, \"variable\": \"client10\", \"value\": 0.1704}, {\"round\": 0, \"variable\": \"client11\", \"value\": 0.1914}, {\"round\": 1, \"variable\": \"client11\", \"value\": 0.1914}, {\"round\": 2, \"variable\": \"client11\", \"value\": 0.1915}, {\"round\": 3, \"variable\": \"client11\", \"value\": 0.1915}, {\"round\": 4, \"variable\": \"client11\", \"value\": 0.1915}, {\"round\": 5, \"variable\": \"client11\", \"value\": 0.1884}, {\"round\": 6, \"variable\": \"client11\", \"value\": 0.1881}, {\"round\": 7, \"variable\": \"client11\", \"value\": 0.1897}, {\"round\": 8, \"variable\": \"client11\", \"value\": 0.19}, {\"round\": 9, \"variable\": \"client11\", \"value\": 0.19}, {\"round\": 10, \"variable\": \"client11\", \"value\": 0.1916}, {\"round\": 11, \"variable\": \"client11\", \"value\": 0.1916}, {\"round\": 12, \"variable\": \"client11\", \"value\": 0.1906}, {\"round\": 13, \"variable\": \"client11\", \"value\": 0.1823}, {\"round\": 14, \"variable\": \"client11\", \"value\": 0.1823}, {\"round\": 15, \"variable\": \"client11\", \"value\": 0.1904}, {\"round\": 16, \"variable\": \"client11\", \"value\": 0.1904}, {\"round\": 17, \"variable\": \"client11\", \"value\": 0.1904}, {\"round\": 18, \"variable\": \"client11\", \"value\": 0.1904}, {\"round\": 19, \"variable\": \"client11\", \"value\": 0.1904}, {\"round\": 0, \"variable\": \"client12\", \"value\": 0.0842}, {\"round\": 1, \"variable\": \"client12\", \"value\": 0.0842}, {\"round\": 2, \"variable\": \"client12\", \"value\": 0.0842}, {\"round\": 3, \"variable\": \"client12\", \"value\": 0.0842}, {\"round\": 4, \"variable\": \"client12\", \"value\": 0.0842}, {\"round\": 5, \"variable\": \"client12\", \"value\": 0.0842}, {\"round\": 6, \"variable\": \"client12\", \"value\": 0.0842}, {\"round\": 7, \"variable\": \"client12\", \"value\": 0.0842}, {\"round\": 8, \"variable\": \"client12\", \"value\": 0.0842}, {\"round\": 9, \"variable\": \"client12\", \"value\": 0.0842}, {\"round\": 10, \"variable\": \"client12\", \"value\": 0.0842}, {\"round\": 11, \"variable\": \"client12\", \"value\": 0.0842}, {\"round\": 12, \"variable\": \"client12\", \"value\": 0.0842}, {\"round\": 13, \"variable\": \"client12\", \"value\": 0.0842}, {\"round\": 14, \"variable\": \"client12\", \"value\": 0.0842}, {\"round\": 15, \"variable\": \"client12\", \"value\": 0.0842}, {\"round\": 16, \"variable\": \"client12\", \"value\": 0.1861}, {\"round\": 17, \"variable\": \"client12\", \"value\": 0.1822}, {\"round\": 18, \"variable\": \"client12\", \"value\": 0.1822}, {\"round\": 19, \"variable\": \"client12\", \"value\": 0.1822}, {\"round\": 0, \"variable\": \"client13\", \"value\": 0.1}, {\"round\": 1, \"variable\": \"client13\", \"value\": 0.2641}, {\"round\": 2, \"variable\": \"client13\", \"value\": 0.2641}, {\"round\": 3, \"variable\": \"client13\", \"value\": 0.2012}, {\"round\": 4, \"variable\": \"client13\", \"value\": 0.2278}, {\"round\": 5, \"variable\": \"client13\", \"value\": 0.1534}, {\"round\": 6, \"variable\": \"client13\", \"value\": 0.1534}, {\"round\": 7, \"variable\": \"client13\", \"value\": 0.1534}, {\"round\": 8, \"variable\": \"client13\", \"value\": 0.2696}, {\"round\": 9, \"variable\": \"client13\", \"value\": 0.2696}, {\"round\": 10, \"variable\": \"client13\", \"value\": 0.2696}, {\"round\": 11, \"variable\": \"client13\", \"value\": 0.2696}, {\"round\": 12, \"variable\": \"client13\", \"value\": 0.2696}, {\"round\": 13, \"variable\": \"client13\", \"value\": 0.2696}, {\"round\": 14, \"variable\": \"client13\", \"value\": 0.2253}, {\"round\": 15, \"variable\": \"client13\", \"value\": 0.2253}, {\"round\": 16, \"variable\": \"client13\", \"value\": 0.1529}, {\"round\": 17, \"variable\": \"client13\", \"value\": 0.1529}, {\"round\": 18, \"variable\": \"client13\", \"value\": 0.1529}, {\"round\": 19, \"variable\": \"client13\", \"value\": 0.1787}, {\"round\": 0, \"variable\": \"client14\", \"value\": 0.1112}, {\"round\": 1, \"variable\": \"client14\", \"value\": 0.1112}, {\"round\": 2, \"variable\": \"client14\", \"value\": 0.1112}, {\"round\": 3, \"variable\": \"client14\", \"value\": 0.1112}, {\"round\": 4, \"variable\": \"client14\", \"value\": 0.1112}, {\"round\": 5, \"variable\": \"client14\", \"value\": 0.2512}, {\"round\": 6, \"variable\": \"client14\", \"value\": 0.2182}, {\"round\": 7, \"variable\": \"client14\", \"value\": 0.2182}, {\"round\": 8, \"variable\": \"client14\", \"value\": 0.2182}, {\"round\": 9, \"variable\": \"client14\", \"value\": 0.2586}, {\"round\": 10, \"variable\": \"client14\", \"value\": 0.2586}, {\"round\": 11, \"variable\": \"client14\", \"value\": 0.2454}, {\"round\": 12, \"variable\": \"client14\", \"value\": 0.2475}, {\"round\": 13, \"variable\": \"client14\", \"value\": 0.2475}, {\"round\": 14, \"variable\": \"client14\", \"value\": 0.2475}, {\"round\": 15, \"variable\": \"client14\", \"value\": 0.2478}, {\"round\": 16, \"variable\": \"client14\", \"value\": 0.2478}, {\"round\": 17, \"variable\": \"client14\", \"value\": 0.1767}, {\"round\": 18, \"variable\": \"client14\", \"value\": 0.1767}, {\"round\": 19, \"variable\": \"client14\", \"value\": 0.1767}, {\"round\": 0, \"variable\": \"client15\", \"value\": 0.1}, {\"round\": 1, \"variable\": \"client15\", \"value\": 0.2069}, {\"round\": 2, \"variable\": \"client15\", \"value\": 0.2069}, {\"round\": 3, \"variable\": \"client15\", \"value\": 0.2222}, {\"round\": 4, \"variable\": \"client15\", \"value\": 0.2222}, {\"round\": 5, \"variable\": \"client15\", \"value\": 0.2222}, {\"round\": 6, \"variable\": \"client15\", \"value\": 0.2222}, {\"round\": 7, \"variable\": \"client15\", \"value\": 0.2222}, {\"round\": 8, \"variable\": \"client15\", \"value\": 0.2034}, {\"round\": 9, \"variable\": \"client15\", \"value\": 0.2048}, {\"round\": 10, \"variable\": \"client15\", \"value\": 0.2048}, {\"round\": 11, \"variable\": \"client15\", \"value\": 0.215}, {\"round\": 12, \"variable\": \"client15\", \"value\": 0.215}, {\"round\": 13, \"variable\": \"client15\", \"value\": 0.215}, {\"round\": 14, \"variable\": \"client15\", \"value\": 0.215}, {\"round\": 15, \"variable\": \"client15\", \"value\": 0.215}, {\"round\": 16, \"variable\": \"client15\", \"value\": 0.215}, {\"round\": 17, \"variable\": \"client15\", \"value\": 0.2208}, {\"round\": 18, \"variable\": \"client15\", \"value\": 0.2208}, {\"round\": 19, \"variable\": \"client15\", \"value\": 0.2141}, {\"round\": 0, \"variable\": \"client16\", \"value\": 0.0925}, {\"round\": 1, \"variable\": \"client16\", \"value\": 0.2596}, {\"round\": 2, \"variable\": \"client16\", \"value\": 0.2596}, {\"round\": 3, \"variable\": \"client16\", \"value\": 0.2408}, {\"round\": 4, \"variable\": \"client16\", \"value\": 0.2695}, {\"round\": 5, \"variable\": \"client16\", \"value\": 0.2489}, {\"round\": 6, \"variable\": \"client16\", \"value\": 0.2489}, {\"round\": 7, \"variable\": \"client16\", \"value\": 0.273}, {\"round\": 8, \"variable\": \"client16\", \"value\": 0.273}, {\"round\": 9, \"variable\": \"client16\", \"value\": 0.273}, {\"round\": 10, \"variable\": \"client16\", \"value\": 0.2381}, {\"round\": 11, \"variable\": \"client16\", \"value\": 0.2381}, {\"round\": 12, \"variable\": \"client16\", \"value\": 0.2381}, {\"round\": 13, \"variable\": \"client16\", \"value\": 0.2381}, {\"round\": 14, \"variable\": \"client16\", \"value\": 0.2818}, {\"round\": 15, \"variable\": \"client16\", \"value\": 0.2338}, {\"round\": 16, \"variable\": \"client16\", \"value\": 0.2338}, {\"round\": 17, \"variable\": \"client16\", \"value\": 0.2338}, {\"round\": 18, \"variable\": \"client16\", \"value\": 0.2338}, {\"round\": 19, \"variable\": \"client16\", \"value\": 0.2338}, {\"round\": 0, \"variable\": \"client17\", \"value\": 0.1017}, {\"round\": 1, \"variable\": \"client17\", \"value\": 0.1997}, {\"round\": 2, \"variable\": \"client17\", \"value\": 0.1997}, {\"round\": 3, \"variable\": \"client17\", \"value\": 0.1997}, {\"round\": 4, \"variable\": \"client17\", \"value\": 0.1997}, {\"round\": 5, \"variable\": \"client17\", \"value\": 0.1997}, {\"round\": 6, \"variable\": \"client17\", \"value\": 0.2317}, {\"round\": 7, \"variable\": \"client17\", \"value\": 0.2056}, {\"round\": 8, \"variable\": \"client17\", \"value\": 0.1842}, {\"round\": 9, \"variable\": \"client17\", \"value\": 0.2263}, {\"round\": 10, \"variable\": \"client17\", \"value\": 0.2263}, {\"round\": 11, \"variable\": \"client17\", \"value\": 0.2263}, {\"round\": 12, \"variable\": \"client17\", \"value\": 0.2263}, {\"round\": 13, \"variable\": \"client17\", \"value\": 0.23}, {\"round\": 14, \"variable\": \"client17\", \"value\": 0.23}, {\"round\": 15, \"variable\": \"client17\", \"value\": 0.23}, {\"round\": 16, \"variable\": \"client17\", \"value\": 0.2259}, {\"round\": 17, \"variable\": \"client17\", \"value\": 0.2259}, {\"round\": 18, \"variable\": \"client17\", \"value\": 0.2259}, {\"round\": 19, \"variable\": \"client17\", \"value\": 0.1945}, {\"round\": 0, \"variable\": \"client18\", \"value\": 0.1}, {\"round\": 1, \"variable\": \"client18\", \"value\": 0.1}, {\"round\": 2, \"variable\": \"client18\", \"value\": 0.1}, {\"round\": 3, \"variable\": \"client18\", \"value\": 0.1845}, {\"round\": 4, \"variable\": \"client18\", \"value\": 0.1845}, {\"round\": 5, \"variable\": \"client18\", \"value\": 0.1845}, {\"round\": 6, \"variable\": \"client18\", \"value\": 0.1904}, {\"round\": 7, \"variable\": \"client18\", \"value\": 0.1904}, {\"round\": 8, \"variable\": \"client18\", \"value\": 0.1883}, {\"round\": 9, \"variable\": \"client18\", \"value\": 0.166}, {\"round\": 10, \"variable\": \"client18\", \"value\": 0.1872}, {\"round\": 11, \"variable\": \"client18\", \"value\": 0.1872}, {\"round\": 12, \"variable\": \"client18\", \"value\": 0.1863}, {\"round\": 13, \"variable\": \"client18\", \"value\": 0.1863}, {\"round\": 14, \"variable\": \"client18\", \"value\": 0.1878}, {\"round\": 15, \"variable\": \"client18\", \"value\": 0.1915}, {\"round\": 16, \"variable\": \"client18\", \"value\": 0.1915}, {\"round\": 17, \"variable\": \"client18\", \"value\": 0.1781}, {\"round\": 18, \"variable\": \"client18\", \"value\": 0.1781}, {\"round\": 19, \"variable\": \"client18\", \"value\": 0.1781}, {\"round\": 0, \"variable\": \"client19\", \"value\": 0.1611}, {\"round\": 1, \"variable\": \"client19\", \"value\": 0.1676}, {\"round\": 2, \"variable\": \"client19\", \"value\": 0.1676}, {\"round\": 3, \"variable\": \"client19\", \"value\": 0.1676}, {\"round\": 4, \"variable\": \"client19\", \"value\": 0.1676}, {\"round\": 5, \"variable\": \"client19\", \"value\": 0.1676}, {\"round\": 6, \"variable\": \"client19\", \"value\": 0.1632}, {\"round\": 7, \"variable\": \"client19\", \"value\": 0.1632}, {\"round\": 8, \"variable\": \"client19\", \"value\": 0.1632}, {\"round\": 9, \"variable\": \"client19\", \"value\": 0.1632}, {\"round\": 10, \"variable\": \"client19\", \"value\": 0.1632}, {\"round\": 11, \"variable\": \"client19\", \"value\": 0.1572}, {\"round\": 12, \"variable\": \"client19\", \"value\": 0.1572}, {\"round\": 13, \"variable\": \"client19\", \"value\": 0.1572}, {\"round\": 14, \"variable\": \"client19\", \"value\": 0.1687}, {\"round\": 15, \"variable\": \"client19\", \"value\": 0.1687}, {\"round\": 16, \"variable\": \"client19\", \"value\": 0.1687}, {\"round\": 17, \"variable\": \"client19\", \"value\": 0.144}, {\"round\": 18, \"variable\": \"client19\", \"value\": 0.144}, {\"round\": 19, \"variable\": \"client19\", \"value\": 0.144}]}}, {\"mode\": \"vega-lite\"});\n",
       "</script>"
      ],
      "text/plain": [
       "alt.LayerChart(...)"
      ]
     },
     "execution_count": 4,
     "metadata": {},
     "output_type": "execute_result"
    }
   ],
   "source": [
    "generate_plot(data, list_of_experiments[14].hyperparameters)"
   ]
  },
  {
   "cell_type": "code",
   "execution_count": null,
   "metadata": {},
   "outputs": [],
   "source": []
  }
 ],
 "metadata": {
  "kernelspec": {
   "display_name": "Python 3",
   "language": "python",
   "name": "python3"
  },
  "language_info": {
   "codemirror_mode": {
    "name": "ipython",
    "version": 3
   },
   "file_extension": ".py",
   "mimetype": "text/x-python",
   "name": "python",
   "nbconvert_exporter": "python",
   "pygments_lexer": "ipython3",
   "version": "3.8.2"
  }
 },
 "nbformat": 4,
 "nbformat_minor": 4
}
