{
 "cells": [
  {
   "cell_type": "code",
   "execution_count": 81,
   "metadata": {},
   "outputs": [],
   "source": [
    "import experiment_manager as xpm\n",
    "from pathlib import Path\n",
    "\n",
    "import os\n",
    "from os.path import join\n",
    "\n",
    "import pandas as pd\n",
    "\n",
    "import altair as alt"
   ]
  },
  {
   "cell_type": "code",
   "execution_count": 96,
   "metadata": {},
   "outputs": [
    {
     "name": "stdout",
     "output_type": "stream",
     "text": [
      "Loaded  1  Results from  /home/tim/HHI/fl_distill/results/noniid\n",
      "\n",
      "Hyperparameters: \n",
      " {'dataset': ['cifar10'], 'distill_dataset': ['stl10'], 'net': ['vgg11s'], 'n_clients': [5], 'classes_per_client': [0.1], 'balancedness': [1.0], 'communication_rounds': [5], 'participation_rate': [0.4], 'local_epochs': [3], 'distill_epochs': [3], 'n_distill': [1000], 'batch_size': [128], 'aggregation_mode': ['FAD'], 'distill_mode': ['regular'], 'distill_phase': ['clients'], 'only_linear': [False], 'pretrained': [None], 'save_model': [None], 'log_frequency': [-100], 'log_path': ['noniid/'], 'job_id': [[]], 'finished': [True], 'log_id': [21160]}\n",
      "\n",
      "Tracked Variables: \n",
      " ['hyperparameters', 'server_val_accuracy', 'distill_loss', 'distill_acc', 'distill_epochs', 'communication_round', 'epochs', 'lr', 'momentum', 'weight_decay']\n"
     ]
    }
   ],
   "source": [
    "#construct absolute path to result directory\n",
    "\n",
    "result_path = join(Path(os.getcwd()).resolve().parents[0], 'noniid')\n",
    "\n",
    "list_of_experiments = xpm.get_list_of_experiments(result_path)\n",
    "data = list_of_experiments[0].results\n",
    "del data['hyperparameters']"
   ]
  },
  {
   "cell_type": "code",
   "execution_count": 97,
   "metadata": {},
   "outputs": [
    {
     "name": "stdout",
     "output_type": "stream",
     "text": [
      "    round variable   value\n",
      "0       0  client0  0.1000\n",
      "1       1  client0  0.1000\n",
      "2       2  client0  0.1000\n",
      "3       3  client0  0.1000\n",
      "4       4  client0  0.1859\n",
      "5       0  client1  0.1744\n",
      "6       1  client1  0.1744\n",
      "7       2  client1  0.1744\n",
      "8       3  client1  0.1744\n",
      "9       4  client1  0.1772\n",
      "10      0  client2  0.1000\n",
      "11      1  client2  0.1653\n",
      "12      2  client2  0.1653\n",
      "13      3  client2  0.2232\n",
      "14      4  client2  0.2232\n",
      "15      0  client3  0.1894\n",
      "16      1  client3  0.1930\n",
      "17      2  client3  0.1922\n",
      "18      3  client3  0.1922\n",
      "19      4  client3  0.1922\n",
      "20      0  client4  0.1000\n",
      "21      1  client4  0.1000\n",
      "22      2  client4  0.1000\n",
      "23      3  client4  0.1640\n",
      "24      4  client4  0.1640\n"
     ]
    }
   ],
   "source": [
    "data['server_val_accuracy'] = data['server_val_accuracy'][:-1]\n",
    "distill_acc = pd.DataFrame(data['distill_acc'], columns=[f'client{i}'for i, val in enumerate(data['distill_acc'][0])])\n",
    "distill_acc.index.name = \"round\"\n",
    "distill_acc = distill_acc.reset_index().melt('round')\n",
    "del data['distill_acc']\n",
    "print(distill_acc)\n"
   ]
  },
  {
   "cell_type": "code",
   "execution_count": 98,
   "metadata": {},
   "outputs": [
    {
     "data": {
      "text/html": [
       "<div>\n",
       "<style scoped>\n",
       "    .dataframe tbody tr th:only-of-type {\n",
       "        vertical-align: middle;\n",
       "    }\n",
       "\n",
       "    .dataframe tbody tr th {\n",
       "        vertical-align: top;\n",
       "    }\n",
       "\n",
       "    .dataframe thead th {\n",
       "        text-align: right;\n",
       "    }\n",
       "</style>\n",
       "<table border=\"1\" class=\"dataframe\">\n",
       "  <thead>\n",
       "    <tr style=\"text-align: right;\">\n",
       "      <th></th>\n",
       "      <th>server_val_accuracy</th>\n",
       "      <th>distill_loss</th>\n",
       "      <th>distill_epochs</th>\n",
       "      <th>communication_round</th>\n",
       "      <th>epochs</th>\n",
       "      <th>lr</th>\n",
       "      <th>momentum</th>\n",
       "      <th>weight_decay</th>\n",
       "    </tr>\n",
       "  </thead>\n",
       "  <tbody>\n",
       "    <tr>\n",
       "      <th>0</th>\n",
       "      <td>0.1000</td>\n",
       "      <td>1</td>\n",
       "      <td>1</td>\n",
       "      <td>1</td>\n",
       "      <td>3</td>\n",
       "      <td>0.04</td>\n",
       "      <td>0.9</td>\n",
       "      <td>0.00005</td>\n",
       "    </tr>\n",
       "    <tr>\n",
       "      <th>1</th>\n",
       "      <td>0.1075</td>\n",
       "      <td>1</td>\n",
       "      <td>1</td>\n",
       "      <td>2</td>\n",
       "      <td>6</td>\n",
       "      <td>0.04</td>\n",
       "      <td>0.9</td>\n",
       "      <td>0.00005</td>\n",
       "    </tr>\n",
       "    <tr>\n",
       "      <th>2</th>\n",
       "      <td>0.1000</td>\n",
       "      <td>1</td>\n",
       "      <td>1</td>\n",
       "      <td>3</td>\n",
       "      <td>9</td>\n",
       "      <td>0.04</td>\n",
       "      <td>0.9</td>\n",
       "      <td>0.00005</td>\n",
       "    </tr>\n",
       "    <tr>\n",
       "      <th>3</th>\n",
       "      <td>0.1000</td>\n",
       "      <td>1</td>\n",
       "      <td>1</td>\n",
       "      <td>4</td>\n",
       "      <td>12</td>\n",
       "      <td>0.04</td>\n",
       "      <td>0.9</td>\n",
       "      <td>0.00005</td>\n",
       "    </tr>\n",
       "    <tr>\n",
       "      <th>4</th>\n",
       "      <td>0.1706</td>\n",
       "      <td>1</td>\n",
       "      <td>1</td>\n",
       "      <td>5</td>\n",
       "      <td>15</td>\n",
       "      <td>0.04</td>\n",
       "      <td>0.9</td>\n",
       "      <td>0.00005</td>\n",
       "    </tr>\n",
       "  </tbody>\n",
       "</table>\n",
       "</div>"
      ],
      "text/plain": [
       "   server_val_accuracy  distill_loss  distill_epochs  communication_round  \\\n",
       "0               0.1000             1               1                    1   \n",
       "1               0.1075             1               1                    2   \n",
       "2               0.1000             1               1                    3   \n",
       "3               0.1000             1               1                    4   \n",
       "4               0.1706             1               1                    5   \n",
       "\n",
       "   epochs    lr  momentum  weight_decay  \n",
       "0       3  0.04       0.9       0.00005  \n",
       "1       6  0.04       0.9       0.00005  \n",
       "2       9  0.04       0.9       0.00005  \n",
       "3      12  0.04       0.9       0.00005  \n",
       "4      15  0.04       0.9       0.00005  "
      ]
     },
     "execution_count": 98,
     "metadata": {},
     "output_type": "execute_result"
    }
   ],
   "source": [
    "data = pd.DataFrame.from_dict(data)\n",
    "data"
   ]
  },
  {
   "cell_type": "code",
   "execution_count": 101,
   "metadata": {},
   "outputs": [
    {
     "data": {
      "text/html": [
       "\n",
       "<div id=\"altair-viz-6a2eaea7a23f462f8616bf1dadc4a60e\"></div>\n",
       "<script type=\"text/javascript\">\n",
       "  (function(spec, embedOpt){\n",
       "    let outputDiv = document.currentScript.previousElementSibling;\n",
       "    if (outputDiv.id !== \"altair-viz-6a2eaea7a23f462f8616bf1dadc4a60e\") {\n",
       "      outputDiv = document.getElementById(\"altair-viz-6a2eaea7a23f462f8616bf1dadc4a60e\");\n",
       "    }\n",
       "    const paths = {\n",
       "      \"vega\": \"https://cdn.jsdelivr.net/npm//vega@5?noext\",\n",
       "      \"vega-lib\": \"https://cdn.jsdelivr.net/npm//vega-lib?noext\",\n",
       "      \"vega-lite\": \"https://cdn.jsdelivr.net/npm//vega-lite@4.8.1?noext\",\n",
       "      \"vega-embed\": \"https://cdn.jsdelivr.net/npm//vega-embed@6?noext\",\n",
       "    };\n",
       "\n",
       "    function loadScript(lib) {\n",
       "      return new Promise(function(resolve, reject) {\n",
       "        var s = document.createElement('script');\n",
       "        s.src = paths[lib];\n",
       "        s.async = true;\n",
       "        s.onload = () => resolve(paths[lib]);\n",
       "        s.onerror = () => reject(`Error loading script: ${paths[lib]}`);\n",
       "        document.getElementsByTagName(\"head\")[0].appendChild(s);\n",
       "      });\n",
       "    }\n",
       "\n",
       "    function showError(err) {\n",
       "      outputDiv.innerHTML = `<div class=\"error\" style=\"color:red;\">${err}</div>`;\n",
       "      throw err;\n",
       "    }\n",
       "\n",
       "    function displayChart(vegaEmbed) {\n",
       "      vegaEmbed(outputDiv, spec, embedOpt)\n",
       "        .catch(err => showError(`Javascript Error: ${err.message}<br>This usually means there's a typo in your chart specification. See the javascript console for the full traceback.`));\n",
       "    }\n",
       "\n",
       "    if(typeof define === \"function\" && define.amd) {\n",
       "      requirejs.config({paths});\n",
       "      require([\"vega-embed\"], displayChart, err => showError(`Error loading script: ${err.message}`));\n",
       "    } else if (typeof vegaEmbed === \"function\") {\n",
       "      displayChart(vegaEmbed);\n",
       "    } else {\n",
       "      loadScript(\"vega\")\n",
       "        .then(() => loadScript(\"vega-lite\"))\n",
       "        .then(() => loadScript(\"vega-embed\"))\n",
       "        .catch(showError)\n",
       "        .then(() => displayChart(vegaEmbed));\n",
       "    }\n",
       "  })({\"config\": {\"view\": {\"continuousWidth\": 400, \"continuousHeight\": 300}}, \"layer\": [{\"mark\": \"line\", \"encoding\": {\"x\": {\"type\": \"quantitative\", \"field\": \"round\"}, \"y\": {\"type\": \"quantitative\", \"aggregate\": \"mean\", \"field\": \"value\"}}}, {\"mark\": {\"type\": \"errorband\", \"extent\": \"ci\"}, \"encoding\": {\"x\": {\"type\": \"quantitative\", \"field\": \"round\"}, \"y\": {\"type\": \"quantitative\", \"field\": \"value\", \"title\": \"Miles/Gallon\"}}}], \"data\": {\"name\": \"data-fc464b2308dfbf76ae474959ce30c6ea\"}, \"$schema\": \"https://vega.github.io/schema/vega-lite/v4.8.1.json\", \"datasets\": {\"data-fc464b2308dfbf76ae474959ce30c6ea\": [{\"round\": 0, \"variable\": \"client0\", \"value\": 0.1}, {\"round\": 1, \"variable\": \"client0\", \"value\": 0.1}, {\"round\": 2, \"variable\": \"client0\", \"value\": 0.1}, {\"round\": 3, \"variable\": \"client0\", \"value\": 0.1}, {\"round\": 4, \"variable\": \"client0\", \"value\": 0.1859}, {\"round\": 0, \"variable\": \"client1\", \"value\": 0.1744}, {\"round\": 1, \"variable\": \"client1\", \"value\": 0.1744}, {\"round\": 2, \"variable\": \"client1\", \"value\": 0.1744}, {\"round\": 3, \"variable\": \"client1\", \"value\": 0.1744}, {\"round\": 4, \"variable\": \"client1\", \"value\": 0.1772}, {\"round\": 0, \"variable\": \"client2\", \"value\": 0.1}, {\"round\": 1, \"variable\": \"client2\", \"value\": 0.1653}, {\"round\": 2, \"variable\": \"client2\", \"value\": 0.1653}, {\"round\": 3, \"variable\": \"client2\", \"value\": 0.2232}, {\"round\": 4, \"variable\": \"client2\", \"value\": 0.2232}, {\"round\": 0, \"variable\": \"client3\", \"value\": 0.1894}, {\"round\": 1, \"variable\": \"client3\", \"value\": 0.193}, {\"round\": 2, \"variable\": \"client3\", \"value\": 0.1922}, {\"round\": 3, \"variable\": \"client3\", \"value\": 0.1922}, {\"round\": 4, \"variable\": \"client3\", \"value\": 0.1922}, {\"round\": 0, \"variable\": \"client4\", \"value\": 0.1}, {\"round\": 1, \"variable\": \"client4\", \"value\": 0.1}, {\"round\": 2, \"variable\": \"client4\", \"value\": 0.1}, {\"round\": 3, \"variable\": \"client4\", \"value\": 0.164}, {\"round\": 4, \"variable\": \"client4\", \"value\": 0.164}]}}, {\"mode\": \"vega-lite\"});\n",
       "</script>"
      ],
      "text/plain": [
       "alt.LayerChart(...)"
      ]
     },
     "execution_count": 101,
     "metadata": {},
     "output_type": "execute_result"
    }
   ],
   "source": [
    "mean = alt.Chart(distill_acc).mark_line().encode(\n",
    "    x='round',\n",
    "    y='mean(value)',\n",
    ")\n",
    "\n",
    "band = alt.Chart(distill_acc).mark_errorband(extent='ci').encode(\n",
    "    x='round',\n",
    "    y=alt.Y('value', title='Miles/Gallon'),\n",
    ")\n",
    "\n",
    "mean + band"
   ]
  },
  {
   "cell_type": "code",
   "execution_count": null,
   "metadata": {},
   "outputs": [],
   "source": []
  }
 ],
 "metadata": {
  "kernelspec": {
   "display_name": "Python 3",
   "language": "python",
   "name": "python3"
  },
  "language_info": {
   "codemirror_mode": {
    "name": "ipython",
    "version": 3
   },
   "file_extension": ".py",
   "mimetype": "text/x-python",
   "name": "python",
   "nbconvert_exporter": "python",
   "pygments_lexer": "ipython3",
   "version": "3.8.2"
  }
 },
 "nbformat": 4,
 "nbformat_minor": 4
}
